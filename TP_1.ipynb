{
 "cells": [
  {
   "cell_type": "code",
   "execution_count": 3,
   "metadata": {},
   "outputs": [
    {
     "name": "stdout",
     "output_type": "stream",
     "text": [
      "hola mundo\n"
     ]
    }
   ],
   "source": [
    "#1) Crear un programa que imprima por pantalla el mensaje: “Hola Mundo!”.\n",
    "print(\"hola mundo\")"
   ]
  },
  {
   "cell_type": "code",
   "execution_count": 5,
   "metadata": {},
   "outputs": [
    {
     "name": "stdout",
     "output_type": "stream",
     "text": [
      "hola Matias! mucho gusto.\n"
     ]
    }
   ],
   "source": [
    "#2) Crear un programa que pida al usuario su nombre e imprima por pantalla un saludo usando \n",
    "#el nombre ingresado. Por ejemplo: si el usuario ingresa “Marcos”, el programa debe imprimir \n",
    "#por pantalla “Hola Marcos!”. Consejo: esto será más sencillo si utilizas print(f…) para \n",
    "#realizar la impresión por pantalla.\n",
    "nombre = input(\"dime tu nombre, por favor: \")\n",
    "print(f\"hola {nombre}! mucho gusto.\")"
   ]
  },
  {
   "cell_type": "code",
   "execution_count": 6,
   "metadata": {},
   "outputs": [
    {
     "name": "stdout",
     "output_type": "stream",
     "text": [
      "Soy Matias Tempio,tengo 28 años y vivo en ARGENTINA\n"
     ]
    }
   ],
   "source": [
    "#3) Crear un programa que pida al usuario su nombre, apellido, edad y lugar de residencia e \n",
    "#imprima por pantalla una oración con los datos ingresados. Por ejemplo: si el usuario ingresa \n",
    "#“Marcos”, “Pérez”, “30” y “Argentina”, el programa debe imprimir “Soy Marcos Pérez, tengo 30 \n",
    "#años y vivo en Argentina”. Consejo: esto será más sencillo si utilizas print(f…) para realizar \n",
    "#la impresión por pantalla.\n",
    "nombre = input(\"dime tu nombre, por favor: \")\n",
    "apellido = input(f\"muy bien {nombre} ahora,te pido tu apellido: \")\n",
    "edad = input(\"genial!, cuantos años tenes?  \")\n",
    "residencia = input(f\"el ultimo dato {nombre}, donde vivis? \")\n",
    "print(f\"Soy {nombre} {apellido},tengo {edad} años y vivo en {residencia}\")"
   ]
  },
  {
   "cell_type": "code",
   "execution_count": 12,
   "metadata": {},
   "outputs": [
    {
     "name": "stdout",
     "output_type": "stream",
     "text": [
      "el area es 21.2264 y su perimetro es 16.328000000000003\n"
     ]
    }
   ],
   "source": [
    "#4) Crear un programa que pida al usuario el radio de un círculo e imprima por pantalla su área y \n",
    "#su perímetro. \n",
    "radio = float(input (\"dame un valor para radio:\")) \n",
    "P = float(3.14)\n",
    "area = P * radio**2\n",
    "perimetro = 2 * P * radio\n",
    "print(f\"el area es {area} y su perimetro es {perimetro}\")\n"
   ]
  },
  {
   "cell_type": "code",
   "execution_count": 15,
   "metadata": {},
   "outputs": [
    {
     "name": "stdout",
     "output_type": "stream",
     "text": [
      "tus 1750 segundos equivalen a 0.4861111111111111 horas\n"
     ]
    }
   ],
   "source": [
    "#5) Crear un programa que pida al usuario una cantidad de segundos e imprima por pantalla a \n",
    "#cuántas horas equivale. \n",
    "\n",
    "segundos =int(input (\"escribe los segundos que quieras y te dire su equivalente en horas: \"))\n",
    "horas = float((segundos/60)/60)\n",
    "print(f\"tus {segundos} segundos equivalen a {horas} horas\")"
   ]
  },
  {
   "cell_type": "code",
   "execution_count": null,
   "metadata": {},
   "outputs": [
    {
     "name": "stdout",
     "output_type": "stream",
     "text": [
      "la tabla del numero 5 es: (5, 10, 15, 20, 25, 30, 35, 40, 45, 50)\n"
     ]
    }
   ],
   "source": [
    "#6) Crear un programa que pida al usuario un número e imprima por pantalla la tabla de \n",
    "# multiplicar de dicho número.\n",
    "numero = int(input(\"escribe un numero, por favor: \"))\n",
    "tabla = (numero*1, numero*2,numero*3 ,numero*4 ,numero*5 ,numero*6 ,numero*7 ,numero*8 ,numero*9,numero*10) \n",
    "print (f\"la tabla del numero {numero} es: {tabla}\")"
   ]
  },
  {
   "cell_type": "code",
   "execution_count": 2,
   "metadata": {},
   "outputs": [
    {
     "name": "stdout",
     "output_type": "stream",
     "text": [
      "suma:15+4=19    resta:15-4=11   div:15/4=3.75   multiplicacion:15*4=60\n"
     ]
    }
   ],
   "source": [
    "#7) Crear un programa que pida al usuario dos números enteros distintos del 0 y muestre por \n",
    "#pantalla el resultado de sumarlos, dividirlos, multiplicarlos y restarlos. \n",
    "\n",
    "num1 = int(input(\"escribe el primero numero Entero:\"))\n",
    "num2 = int(input(\"ahora escribe el segundo: \"))\n",
    "suma = num1 + num2\n",
    "resta = num1 - num2\n",
    "div = float(num1 / num2)\n",
    "mult = num1 * num2\n",
    "\n",
    "print (f\"suma:{num1}+{num2}={suma}    resta:{num1}-{num2}={resta}   div:{num1}/{num2}={div}   multiplicacion:{num1}*{num2}={mult}\")"
   ]
  },
  {
   "cell_type": "code",
   "execution_count": 7,
   "metadata": {},
   "outputs": [
    {
     "name": "stdout",
     "output_type": "stream",
     "text": [
      "Tu IMC O INDICE DE MASA CORPORAL ES: 36.203214173173215\n"
     ]
    }
   ],
   "source": [
    "#8) Crear un programa que pida al usuario su altura y su peso e imprima por pantalla su índice \n",
    "#de masa corporal. Tener en cuenta que el índice de masa corporal se calcula del siguiente \n",
    "#modo:  \n",
    "#            I𝑀𝐶 =  𝑝𝑒𝑠𝑜 𝑒𝑛 𝑘𝑔\n",
    "#                   (𝑎𝑙𝑡𝑢𝑟𝑎 𝑒𝑛 𝑚)2\n",
    "\n",
    "altura = float(input(\"Ingrese su altura en metros: \"))\n",
    "peso = float(input(\"Ingrese su peso en kg: \"))\n",
    "\n",
    "masaCORP= peso / (altura**2)\n",
    "\n",
    "print(f\"Tu IMC O INDICE DE MASA CORPORAL ES: {masaCORP}\")"
   ]
  },
  {
   "cell_type": "code",
   "execution_count": 8,
   "metadata": {},
   "outputs": [
    {
     "name": "stdout",
     "output_type": "stream",
     "text": [
      "el equivalente en fahrenheit es: 104.0\n"
     ]
    }
   ],
   "source": [
    "#9) Crear un programa que pida al usuario una temperatura en grados Celsius e imprima por \n",
    "#pantalla su equivalente en grados Fahrenheit. Tener en cuenta la siguiente equivalencia: \n",
    "# \n",
    "#T𝑒𝑚𝑝𝑒𝑟𝑎𝑡𝑢𝑟𝑎 𝑒𝑛 𝐹𝑎ℎ𝑟𝑒𝑛ℎ𝑒𝑖t = 9/5 * 𝑇𝑒𝑚𝑝𝑒𝑟𝑎𝑡𝑢𝑟𝑎 𝑒𝑛 𝐶𝑒𝑙𝑠𝑖𝑢s + 32\n",
    "\n",
    "celcius = float(input(\"escribe la temperatura en celcius: \"))\n",
    "fahrenheit = ((9/5) * celcius) + 32\n",
    "print(f\"el equivalente en fahrenheit es: {fahrenheit}\")\n"
   ]
  },
  {
   "cell_type": "code",
   "execution_count": null,
   "metadata": {},
   "outputs": [],
   "source": [
    "#10) Crear un programa que pida al usuario  3 números e imprima por \n",
    "# pantalla el promedio de dichos números. \n",
    "\n",
    "num1 = float(input(\"dame el primer numero: \"))\n",
    "num2 = float(input(\"dame el segundo numero: \"))\n",
    "num3 = float(input(\"dame el tercer numero: \"))\n",
    "\n",
    "prom = (num1 + num2 + num3) / 3\n",
    "\n",
    "print(f\"el promedio de tus numeros es: {prom}\")"
   ]
  },
  {
   "cell_type": "code",
   "execution_count": 6,
   "metadata": {},
   "outputs": [
    {
     "name": "stdout",
     "output_type": "stream",
     "text": [
      "tus 3890.0 segundos equivalen a 1.08 horas\n"
     ]
    }
   ],
   "source": [
    "segundos =float(input (\"escribe los segundos que quieras y te dire su equivalente en horas: \"))\n",
    "horas = round((segundos/3600), 2 )\n",
    "print(f\"tus {segundos} segundos equivalen a {horas} horas\")\n"
   ]
  },
  {
   "cell_type": "code",
   "execution_count": 12,
   "metadata": {},
   "outputs": [
    {
     "name": "stdout",
     "output_type": "stream",
     "text": [
      "20.0\n"
     ]
    }
   ],
   "source": [
    "cantidad_invitados = float(input(\"inserte la cantidad de invitados: \"))\n",
    "hamborguesas_por_invitado =float(input(\"inserte la cantidad de burger que comen per capita papu\"))\n",
    "\n",
    "hamborguesas_a_comprar = cantidad_invitados * hamborguesas_por_invitado\n",
    "print(hamborguesas_a_comprar)"
   ]
  },
  {
   "cell_type": "code",
   "execution_count": 18,
   "metadata": {},
   "outputs": [
    {
     "name": "stdout",
     "output_type": "stream",
     "text": [
      "False\n"
     ]
    }
   ],
   "source": [
    "rango_minimo = 10\n",
    "rango_maximo = 20\n",
    "\n",
    "numero_usuario = int(input(\"ingresa num: \"))\n",
    "\n",
    "\n",
    "dentro_rango = (rango_minimo <= numero_usuario <= rango_maximo)\n",
    "\n",
    "print(dentro_rango)"
   ]
  }
 ],
 "metadata": {
  "kernelspec": {
   "display_name": "Python 3",
   "language": "python",
   "name": "python3"
  },
  "language_info": {
   "codemirror_mode": {
    "name": "ipython",
    "version": 3
   },
   "file_extension": ".py",
   "mimetype": "text/x-python",
   "name": "python",
   "nbconvert_exporter": "python",
   "pygments_lexer": "ipython3",
   "version": "3.13.2"
  }
 },
 "nbformat": 4,
 "nbformat_minor": 2
}
